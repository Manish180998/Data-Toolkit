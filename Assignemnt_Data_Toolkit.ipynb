{
  "nbformat": 4,
  "nbformat_minor": 0,
  "metadata": {
    "colab": {
      "provenance": []
    },
    "kernelspec": {
      "name": "python3",
      "display_name": "Python 3"
    },
    "language_info": {
      "name": "python"
    }
  },
  "cells": [
    {
      "cell_type": "markdown",
      "source": [
        "### **Theory Question**"
      ],
      "metadata": {
        "id": "L_Kc_CPWTb9C"
      }
    },
    {
      "cell_type": "markdown",
      "source": [
        "**Ques.1 What is NumPy, and why is it widely used in Python ?**\n",
        "\n",
        "**Ans.** NumPy (short for Numerical Python) is like a **supercharged calculator** for Python. It helps handle numbers efficiently, especially when working with large amounts of data.  \n",
        "\n",
        "**Why is NumPy so popular?**  \n",
        "1. **Faster than lists** – NumPy arrays work like Python lists but are way quicker and use less memory.  \n",
        "2. **Easy math operations** – You can easily add, subtract, multiply, or divide whole lists of numbers at once.  \n",
        "3. **Works with other tools** – It’s used in data science, machine learning, and AI, and works great with Pandas, SciPy, and TensorFlow.  \n",
        "4. **No more loops!** – Instead of writing long loops to do math on lists, NumPy does it all in one go.  \n",
        "5. **Smart handling of numbers** – Even if numbers have different sizes, NumPy can still do calculations without errors.  \n",
        "\n",
        "Basically, if you're working with numbers in Python, **NumPy makes your life easier and your code faster!**\n",
        "\n",
        "---"
      ],
      "metadata": {
        "id": "wwCZhZhKHwYM"
      }
    },
    {
      "cell_type": "markdown",
      "source": [
        "**Ques.2 How does broadcasting work in NumPy.**\n",
        "\n",
        "**Ans.** Broadcasting in NumPy helps you do math with different-sized arrays **without extra effort**. It automatically adjusts smaller arrays so they can work with larger ones.  \n",
        "\n",
        "For example, if you add a single number to an array, NumPy applies the number to each element. If you add a smaller array to a bigger one, NumPy **stretches** the smaller array to match the bigger one.  \n",
        "\n",
        "**How does it work?**  \n",
        "1. If two arrays have the **same shape**, NumPy adds them normally.  \n",
        "2. If one array is **smaller**, NumPy expands it to match the bigger one.  \n",
        "3. If a dimension is **1**, it repeats the values to fit.  \n",
        "\n",
        "This makes coding **easier, faster, and more efficient** because you don’t need loops or manual adjustments.\n",
        "\n",
        "---"
      ],
      "metadata": {
        "id": "DDRwHQJ9QwN0"
      }
    },
    {
      "cell_type": "markdown",
      "source": [
        "**Ques.3 What is a Pandas DataFrame**\n",
        "\n",
        "**Ans.** A **Pandas DataFrame** is like a **table** in Python, similar to an **Excel sheet** or a **Google Sheet**. It helps you store and organize data in a clear way, using **rows and columns**.  \n",
        "\n",
        "Each **row** represents a single entry (like a student, a product, or a transaction).  \n",
        "Each **column** holds a specific type of data (like names, prices, or dates).  \n",
        "\n",
        "For example, if you have student data, a DataFrame would look like this:  \n",
        "\n",
        "| Name  | Age | Grade |  \n",
        "|-------|-----|-------|  \n",
        "| Alice | 21  | A     |  \n",
        "| Bob   | 22  | B     |  \n",
        "| Carol | 20  | A     |  \n",
        "\n",
        "With Pandas, you can **easily search, sort, and analyze** data without much effort. It's super useful for working with real-world data, whether from an **Excel file, a website, or a database**.\n",
        "\n",
        "---"
      ],
      "metadata": {
        "id": "7WNJUFQqRmRu"
      }
    },
    {
      "cell_type": "markdown",
      "source": [
        "**Ques.4 Explain the use of the groupby() method in Pandas**\n",
        "\n",
        "**Ans.** The `groupby()` method in Pandas helps **group similar data** and perform calculations like total, average, or count for each group. It’s useful when working with large amounts of data and makes it easy to analyze trends.  \n",
        "\n",
        "### **How does it work?**  \n",
        "1. It **groups** data based on a chosen column (e.g., product category, city, or department).  \n",
        "2. It **applies a function** (like adding up sales, finding the average, or counting items) to each group.  \n",
        "3. It **returns a summary** of the grouped data.  \n",
        "\n",
        "**Example:**  \n",
        "Imagine you have a list of sales records for different product categories. Instead of manually calculating total sales for each category, `groupby()` does it for you in one step.  \n",
        "\n",
        "This method is **very useful** for summarizing data and quickly spotting patterns, like which product sells the most or which city has the highest orders.\n",
        "\n",
        "---"
      ],
      "metadata": {
        "id": "rOZzJGthTMSI"
      }
    },
    {
      "cell_type": "markdown",
      "source": [
        "**Ques.5 Why is Seaborn preferred for statistical visualizations**\n",
        "\n",
        "**Ans.**\n",
        "Seaborn is a Python library that helps create **beautiful and easy-to-understand graphs** with very little code. It is mainly used for **analyzing data and finding patterns** through visualizations.  \n",
        "\n",
        "**Why is Seaborn preferred?**  \n",
        "1. **Makes charts look better** – Automatically styles graphs with nice colors and layouts.  \n",
        "2. **Easy to use** – Creates complex graphs with just a few lines of code.  \n",
        "3. **Great for data analysis** – Helps understand trends, comparisons, and relationships in data.  \n",
        "4. **Works well with Pandas** – Easily handles large datasets.  \n",
        "5. **Shows patterns clearly** – Has built-in functions for heatmaps, scatter plots, and bar charts.  \n",
        "\n",
        "**Example:**  \n",
        "If you have a dataset with sales and profit, Seaborn can **quickly show the relationship** between them with a scatter plot.  \n",
        "\n",
        "Seaborn is **simple, powerful, and perfect for data visualization**, making it a top choice for statisticians and data analysts.\n",
        "\n",
        "---"
      ],
      "metadata": {
        "id": "L3i5MYl5TI87"
      }
    },
    {
      "cell_type": "markdown",
      "source": [
        "**Ques.6 What are the differences between NumPy arrays and Python lists**\n",
        "\n",
        "**Ans.**\n",
        "Both NumPy arrays and Python lists store data, but **NumPy arrays are much faster and better for working with numbers**.  \n",
        "\n",
        "**Main Differences:**  \n",
        "\n",
        "1. **Speed** – NumPy arrays are much faster than Python lists.  \n",
        "2. **Memory** – NumPy uses less memory, so it handles large data better.  \n",
        "3. **Math Operations** – You can do math directly on NumPy arrays (`array * 2`), while Python lists need loops.  \n",
        "4. **Data Type** – NumPy arrays store only one type of data (like all numbers), but lists can mix types (numbers, text, etc.).  \n",
        "5. **Built-in Functions** – NumPy has powerful functions for statistics and data analysis, which lists don’t have.  \n",
        "\n",
        "**Example:**  \n",
        "If you have a list of numbers and want to double them:  \n",
        "\n",
        "- **With a Python list**, you need a loop:  \n",
        "  ```python\n",
        "  lst = [1, 2, 3, 4]\n",
        "  result = [x * 2 for x in lst]  # Loop needed\n",
        "  ```  \n",
        "- **With a NumPy array**, it’s much simpler:  \n",
        "  ```python\n",
        "  import numpy as np\n",
        "  arr = np.array([1, 2, 3, 4])\n",
        "  result = arr * 2  # No loop needed\n",
        "  ```  \n",
        "\n",
        "If you're working with numbers, **NumPy arrays are the better choice** because they are **faster, smaller, and easier to use**. Python lists are more flexible but not as efficient for calculations.\n",
        "\n",
        "---"
      ],
      "metadata": {
        "id": "gyGojvghTF7l"
      }
    },
    {
      "cell_type": "markdown",
      "source": [
        "**Ques.7 What is a heatmap, and when should it be used**\n",
        "\n",
        "**Ans.** A **heatmap** is a special type of chart that uses **colors** to show patterns in data. Instead of looking at numbers, you can quickly see which values are **high** or **low** just by looking at the colors.  \n",
        "\n",
        "**When should you use a heatmap?**  \n",
        "1. **To find patterns** – It helps you see trends and relationships in data.  \n",
        "2. **To compare values** – You can easily compare multiple categories at once.  \n",
        "3. **To show high and low points** – Darker or brighter colors highlight important areas.  \n",
        "4. **To understand complex data easily** – It makes large sets of numbers easier to read.  \n",
        "\n",
        "**Example:**  \n",
        "Imagine a heatmap of test scores for different subjects:  \n",
        "- Dark **red** = High scores  \n",
        "- Light **yellow** = Low scores  \n",
        "\n",
        "Just by looking at the heatmap, you can **immediately** tell who performed best in which subject **without reading all the numbers**.  \n",
        "A heatmap is a **quick and simple way** to understand large amounts of data **at a glance** using colors instead of numbers.\n",
        "\n",
        "---"
      ],
      "metadata": {
        "id": "fapN9zsrTB-s"
      }
    },
    {
      "cell_type": "markdown",
      "source": [
        "**Ques.8 What does the term “vectorized operation” mean in NumPy**\n",
        "\n",
        "**Ans.**\n",
        "A **vectorized operation** in NumPy is a **fast way to do math on many numbers at once** without using loops. Instead of calculating one number at a time, NumPy performs the operation on the **whole list** instantly.  \n",
        "\n",
        "**Why is this useful?**  \n",
        "1. **Faster** – Runs much quicker than loops.  \n",
        "2. **Less code** – Makes your program shorter and easier to read.  \n",
        "3. **More efficient** – Uses powerful built-in optimizations.  \n",
        "\n",
        "**Example:**  \n",
        "**Without vectorization (using a loop):**  \n",
        "If you want to double each number in a list:  \n",
        "```python\n",
        "numbers = [1, 2, 3, 4]\n",
        "doubled = [x * 2 for x in numbers]  # Uses a loop\n",
        "print(doubled)  # Output: [2, 4, 6, 8]\n",
        "```\n",
        "**With vectorization (using NumPy):**  \n",
        "With NumPy, you don’t need a loop:  \n",
        "```python\n",
        "import numpy as np\n",
        "numbers = np.array([1, 2, 3, 4])\n",
        "doubled = numbers * 2  # No loop needed!\n",
        "print(doubled)  # Output: [2, 4, 6, 8]\n",
        "```\n",
        "Vectorized operations help **save time and make code cleaner** by applying math to a whole list instantly **instead of processing one item at a time**.\n",
        "\n",
        "---"
      ],
      "metadata": {
        "id": "MCeY-AmKS_Qv"
      }
    },
    {
      "cell_type": "markdown",
      "source": [
        "**Ques.9 How does Matplotlib differ from Plotly**\n",
        "\n",
        "**Ans.** Matplotlib and Plotly are both tools for making graphs in Python, but they work in different ways.  \n",
        "\n",
        "**How are they different?**  \n",
        "\n",
        "| Feature       | Matplotlib | Plotly |  \n",
        "|--------------|-----------|--------|  \n",
        "| **Type of Graphs** | Simple, basic graphs | Interactive, modern graphs |  \n",
        "| **Customization** | More coding needed | Easier to customize |  \n",
        "| **Interactivity** | Static (no zoom, no hover effects) | Interactive (you can zoom, hover, and click) |  \n",
        "| **Best for** | Quick charts and scientific plots | Dashboards, reports, and web apps |  \n",
        "| **Ease of Use** | Needs more effort to set up | Easy to use for interactive visuals |  \n",
        "\n",
        "\n",
        "**Example:**  \n",
        "**Matplotlib (simple graph):**  \n",
        "```python\n",
        "import matplotlib.pyplot as plt\n",
        "plt.plot([1, 2, 3], [10, 20, 30])\n",
        "plt.show()\n",
        "```\n",
        "This makes a **basic graph** with no interaction.  \n",
        "\n",
        "**Plotly (interactive graph):**  \n",
        "```python\n",
        "import plotly.express as px\n",
        "fig = px.line(x=[1, 2, 3], y=[10, 20, 30])\n",
        "fig.show()\n",
        "```\n",
        "This makes a **graph where you can zoom and hover over points**.  \n",
        "\n",
        "**Which one should you use?**  \n",
        "- **Use Matplotlib** if you just need a simple, quick chart.  \n",
        "- **Use Plotly** if you want a fancy, interactive graph that works on websites.\n",
        "\n",
        "---"
      ],
      "metadata": {
        "id": "6SOq-gCqS5mo"
      }
    },
    {
      "cell_type": "markdown",
      "source": [
        "**Ques.10 What is the significance of hierarchical indexing in Pandas**\n",
        "\n",
        "**Ans.** **Hierarchical indexing** in Pandas lets you use **multiple levels of labels** for rows or columns. This makes it easier to organize and search through complex data.  \n",
        "\n",
        "### **Why is it useful?**  \n",
        "1. **Better organization** – You can group data into categories and subcategories.  \n",
        "2. **Easy data lookup** – You can access data using multiple keys instead of just one.  \n",
        "3. **Helps in grouping and analysis** – Makes it easier to summarize and filter data.  \n",
        "4. **Great for multi-level data** – Useful for time-series, sales reports, or nested data.  \n",
        "\n",
        "### **Example:**  \n",
        "Imagine you have sales data for different cities and years:  \n",
        "\n",
        "| **Year** | **City**  | **Sales** |  \n",
        "|---------|----------|--------|  \n",
        "| 2022    | Delhi    | 5000   |  \n",
        "| 2022    | Mumbai   | 7000   |  \n",
        "| 2023    | Delhi    | 6000   |  \n",
        "| 2023    | Mumbai   | 8000   |  \n",
        "\n",
        "With **hierarchical indexing**, you can group by **year first, then city**, making it easy to find or compare data.  \n",
        "\n",
        "Hierarchical indexing makes **data more organized, easier to search, and better for analysis**, especially when working with large datasets. 🚀\n",
        "\n",
        "---"
      ],
      "metadata": {
        "id": "AyI8p6vKS0R5"
      }
    },
    {
      "cell_type": "markdown",
      "source": [
        "**Ques.11 What is the role of Seaborn’s pairplot() function**\n",
        "\n",
        "**Ans.** Seaborn’s **`pairplot()`** is a function that helps you **compare multiple columns in a dataset** by creating lots of small scatter plots. It’s great for quickly spotting **patterns, relationships, or unusual values** in data.  \n",
        "\n",
        "**Why is `pairplot()` useful?**  \n",
        "1. **Shows how numbers are related** – Helps see connections between different columns.  \n",
        "2. **Finds trends** – Makes it easy to spot patterns, like if one value increases as another increases.  \n",
        "3. **Detects outliers** – Helps find strange values that don’t fit the pattern.  \n",
        "4. **Saves time** – Instead of making many separate graphs, `pairplot()` does it all in one step.  \n",
        "\n",
        "**Example:**  \n",
        "Imagine you have data on students’ **Age, Height, and Weight**. `pairplot()` will create small scatter plots for:  \n",
        "- Age vs Height  \n",
        "- Age vs Weight  \n",
        "- Height vs Weight  \n",
        "\n",
        "**Simple Code Example:**  \n",
        "```python\n",
        "import seaborn as sns\n",
        "import pandas as pd\n",
        "\n",
        "# Sample student data\n",
        "data = pd.DataFrame({\n",
        "    'Age': [15, 16, 17, 18],\n",
        "    'Height': [150, 160, 170, 180],\n",
        "    'Weight': [50, 55, 60, 65]\n",
        "})\n",
        "\n",
        "# Create pairplot\n",
        "sns.pairplot(data)\n",
        "```\n",
        "This will generate **multiple scatter plots** showing how **Age, Height, and Weight** are connected.  \n",
        "\n",
        "Seaborn’s `pairplot()` is a **super easy way** to compare numbers in a dataset and find patterns **without writing a lot of code**.\n",
        "\n",
        "---"
      ],
      "metadata": {
        "id": "5HNH8Kq7SwFA"
      }
    },
    {
      "cell_type": "markdown",
      "source": [
        "**Ques.12 What is the purpose of the describe () function in Pandas**\n",
        "\n",
        "**Ans.**\n",
        "The **`describe()`** function in Pandas helps you **quickly understand your data** by showing important numbers like **the average, smallest, and largest values** in each column. It’s like a quick summary of your dataset.  \n",
        "\n",
        "**Why is `describe()` useful?**  \n",
        "1. **Gives a quick overview** – Instead of checking values one by one, you get a full summary in one step.  \n",
        "2. **Helps spot patterns** – Shows how data is spread out and if there are any extreme values.  \n",
        "3. **Finds missing or odd values** – If a number looks too big or small, you can investigate further.  \n",
        "4. **Saves time** – You don’t need to manually calculate statistics like the average or range.  \n",
        "\n",
        "**Example:**  \n",
        "Imagine you have a table with students’ **Math and Science scores**:  \n",
        "\n",
        "**Code Example:**  \n",
        "```python\n",
        "import pandas as pd\n",
        "\n",
        "# Sample data\n",
        "data = pd.DataFrame({\n",
        "    'Math': [85, 90, 78, 92, 88],\n",
        "    'Science': [80, 85, 89, 94, 90]\n",
        "})\n",
        "\n",
        "# Get summary statistics\n",
        "print(data.describe())\n",
        "```\n",
        "\n",
        "**Output:**  \n",
        "```\n",
        "          Math   Science\n",
        "count    5.000    5.000   # Total number of values\n",
        "mean    86.600   87.600   # Average score\n",
        "std      5.366    5.179   # How spread out the scores are\n",
        "min     78.000   80.000   # Lowest score\n",
        "25%     85.000   85.000   # 25% of students scored below this\n",
        "50%     88.000   89.000   # 50% (median) score\n",
        "75%     90.000   90.000   # 75% of students scored below this\n",
        "max     92.000   94.000   # Highest score\n",
        "```\n",
        "\n",
        "**What does this tell us?**  \n",
        "- The **average math score** is **86.6**, and the highest is **92**.  \n",
        "- The **science scores** are mostly close together (low variation).  \n",
        "- The **lowest math score is 78**, so someone might need extra help.  \n",
        "\n",
        "The `describe()` function is a **fast and easy way** to get a **big-picture view** of your data without doing calculations yourself! 🚀\n",
        "\n",
        "---"
      ],
      "metadata": {
        "id": "BzgMkmfhSlqs"
      }
    },
    {
      "cell_type": "markdown",
      "source": [
        "**Ques.13 Why is handling missing data important in Pandas**\n",
        "\n",
        "**Ans.**\n",
        "Handling **missing data** in Pandas is important because **incomplete data can cause mistakes** in analysis. If we ignore missing values, we might get **wrong results** or errors when doing calculations.  \n",
        "\n",
        "**Why is it important?**  \n",
        "1. **Keeps analysis correct** – Missing values can make averages or totals wrong.  \n",
        "2. **Improves accuracy in AI models** – Clean data helps in making better predictions.  \n",
        "3. **Prevents calculation errors** – Some functions might stop working if data is missing.  \n",
        "4. **Keeps data reliable** – Ensures your dataset is complete and useful.  \n",
        "\n",
        "**How can we handle missing data?**  \n",
        "1. **Remove missing values** – If only a few values are missing, we can delete those rows.  \n",
        "   ```python\n",
        "   df.dropna()  # Removes rows with missing values\n",
        "   ```\n",
        "2. **Fill missing values** – We can replace missing values with the average, zero, or another value.  \n",
        "   ```python\n",
        "   df.fillna(df.mean())  # Fills missing values with the column’s average\n",
        "   ```\n",
        "3. **Copy values from nearby rows** – We can fill missing spots with the previous or next value.  \n",
        "   ```python\n",
        "   df.fillna(method='ffill')  # Uses the last known value\n",
        "   df.fillna(method='bfill')  # Uses the next known value\n",
        "   ```\n",
        "\n",
        "**Example:**  \n",
        "Imagine a student score table like this:  \n",
        "\n",
        "| Name   | Math | Science |  \n",
        "|--------|------|---------|  \n",
        "| Alice  | 85   | 90      |  \n",
        "| Bob    | NaN  | 88      |  \n",
        "| Charlie| 78   | NaN     |  \n",
        "\n",
        "- If we ignore missing values, it may look like **Bob didn’t take the Math exam**!  \n",
        "- If we **fill in missing values** (e.g., using the class average), we get a **clearer and fairer picture** of the data.  \n",
        "\n",
        "Handling missing data is important to **avoid wrong results and errors**. Pandas makes it **easy to fix missing values** so that our data is **clean, accurate, and useful!**\n",
        "\n",
        "---"
      ],
      "metadata": {
        "id": "-RybAWn4Sjix"
      }
    },
    {
      "cell_type": "markdown",
      "source": [
        "**Ques.14 What are the benefits of using Plotly for data visualization**\n",
        "\n",
        "**Ans.**\n",
        "Plotly is a tool that helps create **interactive and beautiful charts** in Python. It’s great for **making data easy to understand** and exploring it visually.  \n",
        "\n",
        "**Why use Plotly?**  \n",
        "1. **Interactive charts** – You can **zoom, hover, and click** on data points.  \n",
        "2. **Looks great** – The graphs are **colorful, clear, and professional**.  \n",
        "3. **Many chart types** – You can make **line charts, bar charts, pie charts, 3D plots, and even maps**.  \n",
        "4. **Easy to use** – The code is simple, even for beginners.  \n",
        "5. **Works on websites** – You can add Plotly charts to **web apps and dashboards**.  \n",
        "6. **Handles big data** – It can **smoothly display large amounts of information**.  \n",
        "\n",
        "**Example:**  \n",
        "Let’s say you have a **sales report** for different years and want to see the trend:  \n",
        "```python\n",
        "import plotly.express as px\n",
        "\n",
        "# Sample data\n",
        "data = {'Year': [2020, 2021, 2022, 2023],\n",
        "        'Sales': [100, 150, 200, 250]}\n",
        "\n",
        "# Create a line chart\n",
        "fig = px.line(data, x='Year', y='Sales', title='Yearly Sales Growth')\n",
        "\n",
        "# Show the chart\n",
        "fig.show()\n",
        "```\n",
        "This will create an **interactive graph** where you can hover over points to see details and zoom in for a closer look.  \n",
        "\n",
        "**Conclusion:**  \n",
        "Plotly is an **amazing tool** for making **interactive and good-looking charts**. It helps you **see patterns, explore data, and create professional reports easily!**\n",
        "\n",
        "---"
      ],
      "metadata": {
        "id": "4FesaRnGSe_O"
      }
    },
    {
      "cell_type": "markdown",
      "source": [
        "**Ques.15 How does NumPy handle multidimensional arrays**\n",
        "\n",
        "**Ans.**\n",
        "NumPy can handle **multidimensional data** easily. This means instead of just working with simple lists, it can manage **tables, images, and even 3D objects** in a **fast and organized way**.  \n",
        "\n",
        "**How does NumPy work with multidimensional arrays?**  \n",
        "1. **Stores data in grids** – Like a table with **rows and columns**.  \n",
        "2. **Uses indexing** – You can pick specific numbers by their position.  \n",
        "3. **Handles different shapes** – Works with **1D (lists), 2D (tables), 3D (cubes), and more**.  \n",
        "4. **Fast calculations** – Much quicker than regular Python lists.  \n",
        "5. **Has built-in functions** – You can easily reshape, sort, or do math operations on the data.  \n",
        "\n",
        "**Example:**  \n",
        "Let’s say we have a **table of numbers**:  \n",
        "```python\n",
        "import numpy as np\n",
        "\n",
        "# Creating a table (2D array)\n",
        "arr = np.array([[1, 2, 3],  \n",
        "                [4, 5, 6],  \n",
        "                [7, 8, 9]])\n",
        "\n",
        "# Picking a number (row 2, column 3)\n",
        "print(arr[1, 2])  # Output: 6\n",
        "\n",
        "# Changing the shape into 3D\n",
        "arr_3d = arr.reshape(3, 1, 3)\n",
        "print(arr_3d)\n",
        "```\n",
        "NumPy makes it **easy to work with complex data** like tables, images, and large datasets. It’s super **fast and useful for data science, AI, and scientific computing!**\n",
        "\n",
        "---"
      ],
      "metadata": {
        "id": "zLv-moEcSbHM"
      }
    },
    {
      "cell_type": "markdown",
      "source": [
        "**Ques.16 What is the role of Bokeh in data visualization**\n",
        "\n",
        "**Ans.**\n",
        "Bokeh is a Python tool that helps create **interactive and good-looking charts**. It is mainly used for **making graphs, dashboards, and web-based visualizations** that people can **click, zoom, and explore** easily.  \n",
        "\n",
        "**Why use Bokeh?**  \n",
        "1. **Interactive graphs** – You can **zoom, move, and hover** over data points.  \n",
        "2. **Works in web browsers** – You can share charts easily without needing special software.  \n",
        "3. **Great for dashboards** – Helps create **live data dashboards** for reports.  \n",
        "4. **Handles large data** – Can **process and display big datasets** smoothly.  \n",
        "5. **Supports different charts** – You can create **bar charts, scatter plots, heatmaps, and more**.  \n",
        "\n",
        "**Example:**  \n",
        "Imagine you want to **draw a simple line chart**:  \n",
        "```python\n",
        "from bokeh.plotting import figure, show  \n",
        "\n",
        "# Sample data  \n",
        "x = [1, 2, 3, 4, 5]  \n",
        "y = [6, 7, 2, 4, 5]  \n",
        "\n",
        "# Create a figure  \n",
        "p = figure(title=\"Simple Line Chart\", x_axis_label='X-Axis', y_axis_label='Y-Axis')  \n",
        "\n",
        "# Add a line to the figure  \n",
        "p.line(x, y, line_width=2)  \n",
        "\n",
        "# Show the chart  \n",
        "show(p)  \n",
        "```\n",
        "This creates a **live, interactive chart** where you can **hover over points, zoom in, and explore the data**.  \n",
        "Bokeh is a **powerful tool for creating interactive charts and dashboards**. It is easy to use and great for **data analysis, finance, and reports**! 🚀\n",
        "\n",
        "---"
      ],
      "metadata": {
        "id": "dXA9mv-fSScR"
      }
    },
    {
      "cell_type": "markdown",
      "source": [
        "**Ques.17 Explain the difference between apply() and map() in Pandas**\n",
        "\n",
        "**Ans.** Both `apply()` and `map()` are used to **modify values in a DataFrame or Series**, but they work in different ways:  \n",
        "\n",
        "1. **`map()`** – Works only on a **single column (Series)**. It applies a function to **each value** in that column.  \n",
        "   ```python\n",
        "   import pandas as pd  \n",
        "   data = pd.Series([1, 2, 3, 4])  \n",
        "   print(data.map(lambda x: x * 2))  # Doubles each value  \n",
        "   ```  \n",
        "\n",
        "2. **`apply()`** – Works on **both single columns and entire DataFrames**. It can apply a function to **each row or column**.  \n",
        "   ```python\n",
        "   df = pd.DataFrame({'A': [1, 2, 3], 'B': [4, 5, 6]})  \n",
        "   print(df.apply(lambda x: x * 2))  # Doubles all values  \n",
        "   ```  \n",
        "\n",
        "**Key Difference**: `map()` is for **one column**, while `apply()` can work on **multiple columns or rows**.  \n",
        "\n",
        "\n",
        "---"
      ],
      "metadata": {
        "id": "gVd8NO26SNC8"
      }
    },
    {
      "cell_type": "markdown",
      "source": [
        "**Ques.18 What are some advanced features of NumPy**\n",
        "\n",
        "**Ans.** NumPy is not just for basic math; it has some **powerful features**, like:  \n",
        "\n",
        "1. **Fast calculations** – Works much faster than Python lists.  \n",
        "2. **Supports big datasets** – Can handle **huge amounts of numbers** efficiently.  \n",
        "3. **Multidimensional arrays** – Works with **tables, images, and 3D objects**.  \n",
        "4. **Linear algebra** – Helps with **matrices and scientific computing**.  \n",
        "5. **Random number generation** – Useful for simulations and AI models.  \n",
        "6. **Fourier Transform** – Helps analyze **signals and sound waves**.  \n",
        "\n",
        "Example:  \n",
        "```python\n",
        "import numpy as np  \n",
        "A = np.array([[1, 2], [3, 4]])  \n",
        "B = np.array([[5, 6], [7, 8]])  \n",
        "print(np.dot(A, B))  # Fast matrix multiplication  \n",
        "```  \n",
        "---"
      ],
      "metadata": {
        "id": "6Fb4GX2bSG_T"
      }
    },
    {
      "cell_type": "markdown",
      "source": [
        "**Ques.19 How does Pandas simplify time series analysis**\n",
        "\n",
        "**Ans.**\n",
        "Pandas makes working with **dates and time-based data** very simple. It helps by:  \n",
        "\n",
        "1. **Using dates as index** – You can organize data by **days, months, years**.  \n",
        "2. **Resampling** – Convert data to different time intervals (e.g., daily to monthly).  \n",
        "3. **Shifting** – Move data **forward or backward in time**.  \n",
        "4. **Rolling windows** – Calculate moving averages (useful for stock prices).  \n",
        "5. **Time zones** – Easily convert data to different time zones.  \n",
        "\n",
        "Example:  \n",
        "```python\n",
        "import pandas as pd  \n",
        "date_rng = pd.date_range(start='2023-01-01', periods=5, freq='D')  \n",
        "df = pd.DataFrame({'Date': date_rng, 'Value': [10, 20, 30, 40, 50]})  \n",
        "df.set_index('Date', inplace=True)  \n",
        "print(df.resample('2D').mean())  # Groups data into 2-day intervals  \n",
        "```  \n",
        "---"
      ],
      "metadata": {
        "id": "DIX0Ok_TR73u"
      }
    },
    {
      "cell_type": "markdown",
      "source": [
        "**Ques.20 What is the role of a pivot table in Pandas**\n",
        "\n",
        "**Ans.**\n",
        "A **pivot table** helps **organize and summarize large data** into an easy-to-read format. It’s useful for **grouping and calculating totals**.  \n",
        "\n",
        "Example:  \n",
        "```python\n",
        "import pandas as pd  \n",
        "data = {'Category': ['A', 'A', 'B', 'B'], 'Sales': [100, 200, 300, 400]}  \n",
        "df = pd.DataFrame(data)  \n",
        "\n",
        "pivot_table = df.pivot_table(values='Sales', index='Category', aggfunc='sum')  \n",
        "print(pivot_table)  # Groups sales by category  \n",
        "```  \n",
        "\n",
        "**Use case**: Pivot tables are commonly used in **business reports and sales analysis**.  \n",
        "\n",
        "---"
      ],
      "metadata": {
        "id": "CCtZxjdWRvfB"
      }
    },
    {
      "cell_type": "markdown",
      "source": [
        "**Ques.21 Why is NumPy’s array slicing faster than Python’s list slicing**\n",
        "\n",
        "**Ans.**\n",
        "NumPy slices data **much faster** than Python lists because:  \n",
        "\n",
        "1. **Stores data efficiently** – NumPy keeps numbers in **one continuous block** of memory. Lists store them **separately**, which is slower.  \n",
        "2. **Uses optimized C code** – NumPy runs on **low-level C language**, making it **much faster**.  \n",
        "3. **No extra copying** – When slicing, NumPy **does not create a new copy**, while Python lists do.  \n",
        "\n",
        "Example:  \n",
        "```python\n",
        "import numpy as np  \n",
        "arr = np.array([1, 2, 3, 4, 5])  \n",
        "slice_arr = arr[1:4]  # Fast slicing  \n",
        "```  \n",
        "\n",
        "**Result**: NumPy is **10 to 100 times faster** than Python lists!\n",
        "\n",
        "---"
      ],
      "metadata": {
        "id": "_pNJUGGKRt81"
      }
    },
    {
      "cell_type": "markdown",
      "source": [
        "\n",
        "**Ques.22 What are some common use cases for Seaborn?**\n",
        "\n",
        "**Ans.** Seaborn is a **data visualization** tool that helps create **beautiful and easy-to-understand graphs**. It is great for:  \n",
        "\n",
        "1. **Finding patterns in data** – Helps you see trends and distributions.  \n",
        "2. **Comparing categories** – Bar charts, box plots, and violin plots.  \n",
        "3. **Showing relationships** – Scatter plots and line plots.  \n",
        "4. **Time series analysis** – Line charts for tracking data over time.  \n",
        "5. **Correlation heatmaps** – See how different columns in data are related.  \n",
        "\n",
        "Example: Creating a **heatmap** to show relationships between data points:  \n",
        "```python\n",
        "import seaborn as sns  \n",
        "import pandas as pd  \n",
        "import numpy as np  \n",
        "\n",
        "data = np.random.rand(5, 5)  # Random data  \n",
        "df = pd.DataFrame(data, columns=['A', 'B', 'C', 'D', 'E'])  \n",
        "sns.heatmap(df.corr(), annot=True)  # Shows how columns are related  \n",
        "```  \n",
        "Seaborn is perfect for **analyzing and understanding data visually** with **clear, stylish charts**!\n",
        "\n",
        "---"
      ],
      "metadata": {
        "id": "ezjBo3bpRqu_"
      }
    },
    {
      "cell_type": "markdown",
      "source": [
        "### **Practical Question**"
      ],
      "metadata": {
        "id": "TpJ0fbgpTwNE"
      }
    },
    {
      "cell_type": "code",
      "source": [
        "\"\"\"\n",
        "Ques.1 How do you create a 2D NumPy array and calculate the sum of each row\n",
        "\n",
        "Ans.\n",
        "\"\"\"\n",
        "import numpy as np\n",
        "\n",
        "# Create a 2D NumPy array\n",
        "arr = np.array([[1, 2, 3],\n",
        "                [4, 5, 6],\n",
        "                [7, 8, 9]])\n",
        "\n",
        "# Calculate the sum of each row\n",
        "row_sums = arr.sum(axis=1)\n",
        "\n",
        "print(row_sums)\n"
      ],
      "metadata": {
        "colab": {
          "base_uri": "https://localhost:8080/"
        },
        "id": "gdzUDBXcT59_",
        "outputId": "699337b6-2acd-46e1-9d71-ec5029befb09"
      },
      "execution_count": null,
      "outputs": [
        {
          "output_type": "stream",
          "name": "stdout",
          "text": [
            "[ 6 15 24]\n"
          ]
        }
      ]
    },
    {
      "cell_type": "code",
      "source": [
        "\"\"\"\n",
        "Ques.2 Write a Pandas script to find the mean of a specific column in a DataFrame\n",
        "Ans.\n",
        "\n",
        "\"\"\"\n",
        "import pandas as pd\n",
        "\n",
        "# Sample DataFrame\n",
        "data = {'Name': ['Alice', 'Bob', 'Charlie'],\n",
        "        'Age': [25, 30, 35],\n",
        "        'Salary': [50000, 60000, 70000]}\n",
        "\n",
        "df = pd.DataFrame(data)\n",
        "\n",
        "# Find the mean of the 'Salary' column\n",
        "mean_salary = df['Salary'].mean()\n",
        "\n",
        "print(\"Mean Salary:\", mean_salary)"
      ],
      "metadata": {
        "colab": {
          "base_uri": "https://localhost:8080/"
        },
        "id": "a8wHsCXCUuv9",
        "outputId": "7262bfba-78a1-4be6-d5ca-04bc70da989b"
      },
      "execution_count": null,
      "outputs": [
        {
          "output_type": "stream",
          "name": "stdout",
          "text": [
            "Mean Salary: 60000.0\n"
          ]
        }
      ]
    },
    {
      "cell_type": "code",
      "source": [
        "\"\"\"\n",
        "Ques.3 Create a scatter plot using Matplotlib\n",
        "Ans.\n",
        "\"\"\"\n",
        "import matplotlib.pyplot as plt\n",
        "\n",
        "# Sample data\n",
        "x = [1, 2, 3, 4, 5]\n",
        "y = [10, 20, 25, 30, 50]\n",
        "\n",
        "# Create scatter plot\n",
        "plt.scatter(x, y, color='blue', marker='o')\n",
        "plt.xlabel(\"X-axis\")\n",
        "plt.ylabel(\"Y-axis\")\n",
        "plt.title(\"Scatter Plot Example\")\n",
        "plt.show()"
      ],
      "metadata": {
        "colab": {
          "base_uri": "https://localhost:8080/",
          "height": 472
        },
        "id": "dS62llt0VkT8",
        "outputId": "4f8a0513-b87d-45e1-a3ee-bb8565dfe1e9"
      },
      "execution_count": null,
      "outputs": [
        {
          "output_type": "display_data",
          "data": {
            "text/plain": [
              "<Figure size 640x480 with 1 Axes>"
            ],
            "image/png": "[encoded data removed]"
          },
          "metadata": {}
        }
      ]
    },
    {
      "cell_type": "code",
      "source": [
        "\"\"\"\n",
        "Ques.4 How do you calculate the correlation matrix using Seaborn and visualize it with a heatmap\n",
        "Ans.\n",
        "\"\"\"\n",
        "import seaborn as sns\n",
        "import pandas as pd\n",
        "import numpy as np\n",
        "import matplotlib.pyplot as plt\n",
        "\n",
        "# Sample DataFrame\n",
        "data = np.random.rand(5, 5)  # Random data\n",
        "df = pd.DataFrame(data, columns=['A', 'B', 'C', 'D', 'E'])\n",
        "\n",
        "# Compute correlation matrix\n",
        "corr_matrix = df.corr()\n",
        "\n",
        "# Create heatmap\n",
        "sns.heatmap(corr_matrix, annot=True, cmap=\"coolwarm\")\n",
        "plt.title(\"Correlation Heatmap\")\n",
        "plt.show()"
      ],
      "metadata": {
        "colab": {
          "base_uri": "https://localhost:8080/",
          "height": 452
        },
        "id": "PqadW3ELXEKz",
        "outputId": "cce9c949-c4b4-4324-c6de-ec0d6df5b77c"
      },
      "execution_count": null,
      "outputs": [
        {
          "output_type": "display_data",
          "data": {
            "text/plain": [
              "<Figure size 640x480 with 2 Axes>"
            ],
            "image/png": "[encoded data removed]"
          },
          "metadata": {}
        }
      ]
    },
    {
      "cell_type": "code",
      "source": [
        "\"\"\"\n",
        "Ques.5 Generate a bar plot using Plotly\n",
        "Ans.\n",
        "\"\"\"\n",
        "import plotly.express as px\n",
        "import pandas as pd\n",
        "\n",
        "# Sample Data\n",
        "data = {'Category': ['A', 'B', 'C', 'D'], 'Values': [10, 20, 15, 25]}\n",
        "df = pd.DataFrame(data)\n",
        "\n",
        "# Create bar plot\n",
        "fig = px.bar(df, x='Category', y='Values', title=\"Bar Plot Example\")\n",
        "fig.show()"
      ],
      "metadata": {
        "id": "naLo7j2eXA7G",
        "colab": {
          "base_uri": "https://localhost:8080/",
          "height": 542
        },
        "outputId": "1d33454e-7e4b-47bf-a76c-e931617f75b9"
      },
      "execution_count": 18,
      "outputs": [
        {
          "output_type": "display_data",
          "data": {
            "text/html": [
              "<html>\n",
              "<head><meta charset=\"utf-8\" /></head>\n",
              "<body>\n",
              "    <div>            <script src=\"https://cdnjs.cloudflare.com/ajax/libs/mathjax/2.7.5/MathJax.js?config=TeX-AMS-MML_SVG\"></script><script type=\"text/javascript\">if (window.MathJax && window.MathJax.Hub && window.MathJax.Hub.Config) {window.MathJax.Hub.Config({SVG: {font: \"STIX-Web\"}});}</script>                <script type=\"text/javascript\">window.PlotlyConfig = {MathJaxConfig: 'local'};</script>\n",
              "        <script charset=\"utf-8\" src=\"https://cdn.plot.ly/plotly-2.35.2.min.js\"></script>                <div id=\"8a13f0ce-5b80-45c0-b099-b3a3e0c9bffd\" class=\"plotly-graph-div\" style=\"height:525px; width:100%;\"></div>            <script type=\"text/javascript\">                                    window.PLOTLYENV=window.PLOTLYENV || {};                                    if (document.getElementById(\"8a13f0ce-5b80-45c0-b099-b3a3e0c9bffd\")) {                    Plotly.newPlot(                        \"8a13f0ce-5b80-45c0-b099-b3a3e0c9bffd\",                        [{\"alignmentgroup\":\"True\",\"hovertemplate\":\"Category=%{x}\\u003cbr\\u003eValues=%{y}\\u003cextra\\u003e\\u003c\\u002fextra\\u003e\",\"legendgroup\":\"\",\"marker\":{\"color\":\"#636efa\",\"pattern\":{\"shape\":\"\"}},\"name\":\"\",\"offsetgroup\":\"\",\"orientation\":\"v\",\"showlegend\":false,\"textposition\":\"auto\",\"x\":[\"A\",\"B\",\"C\",\"D\"],\"xaxis\":\"x\",\"y\":[10,20,15,25],\"yaxis\":\"y\",\"type\":\"bar\"}],                        {\"template\":{\"data\":{\"histogram2dcontour\":[{\"type\":\"histogram2dcontour\",\"colorbar\":{\"outlinewidth\":0,\"ticks\":\"\"},\"colorscale\":[[0.0,\"#0d0887\"],[0.1111111111111111,\"#46039f\"],[0.2222222222222222,\"#7201a8\"],[0.3333333333333333,\"#9c179e\"],[0.4444444444444444,\"#bd3786\"],[0.5555555555555556,\"#d8576b\"],[0.6666666666666666,\"#ed7953\"],[0.7777777777777778,\"#fb9f3a\"],[0.8888888888888888,\"#fdca26\"],[1.0,\"#f0f921\"]]}],\"choropleth\":[{\"type\":\"choropleth\",\"colorbar\":{\"outlinewidth\":0,\"ticks\":\"\"}}],\"histogram2d\":[{\"type\":\"histogram2d\",\"colorbar\":{\"outlinewidth\":0,\"ticks\":\"\"},\"colorscale\":[[0.0,\"#0d0887\"],[0.1111111111111111,\"#46039f\"],[0.2222222222222222,\"#7201a8\"],[0.3333333333333333,\"#9c179e\"],[0.4444444444444444,\"#bd3786\"],[0.5555555555555556,\"#d8576b\"],[0.6666666666666666,\"#ed7953\"],[0.7777777777777778,\"#fb9f3a\"],[0.8888888888888888,\"#fdca26\"],[1.0,\"#f0f921\"]]}],\"heatmap\":[{\"type\":\"heatmap\",\"colorbar\":{\"outlinewidth\":0,\"ticks\":\"\"},\"colorscale\":[[0.0,\"#0d0887\"],[0.1111111111111111,\"#46039f\"],[0.2222222222222222,\"#7201a8\"],[0.3333333333333333,\"#9c179e\"],[0.4444444444444444,\"#bd3786\"],[0.5555555555555556,\"#d8576b\"],[0.6666666666666666,\"#ed7953\"],[0.7777777777777778,\"#fb9f3a\"],[0.8888888888888888,\"#fdca26\"],[1.0,\"#f0f921\"]]}],\"heatmapgl\":[{\"type\":\"heatmapgl\",\"colorbar\":{\"outlinewidth\":0,\"ticks\":\"\"},\"colorscale\":[[0.0,\"#0d0887\"],[0.1111111111111111,\"#46039f\"],[0.2222222222222222,\"#7201a8\"],[0.3333333333333333,\"#9c179e\"],[0.4444444444444444,\"#bd3786\"],[0.5555555555555556,\"#d8576b\"],[0.6666666666666666,\"#ed7953\"],[0.7777777777777778,\"#fb9f3a\"],[0.8888888888888888,\"#fdca26\"],[1.0,\"#f0f921\"]]}],\"contourcarpet\":[{\"type\":\"contourcarpet\",\"colorbar\":{\"outlinewidth\":0,\"ticks\":\"\"}}],\"contour\":[{\"type\":\"contour\",\"colorbar\":{\"outlinewidth\":0,\"ticks\":\"\"},\"colorscale\":[[0.0,\"#0d0887\"],[0.1111111111111111,\"#46039f\"],[0.2222222222222222,\"#7201a8\"],[0.3333333333333333,\"#9c179e\"],[0.4444444444444444,\"#bd3786\"],[0.5555555555555556,\"#d8576b\"],[0.6666666666666666,\"#ed7953\"],[0.7777777777777778,\"#fb9f3a\"],[0.8888888888888888,\"#fdca26\"],[1.0,\"#f0f921\"]]}],\"surface\":[{\"type\":\"surface\",\"colorbar\":{\"outlinewidth\":0,\"ticks\":\"\"},\"colorscale\":[[0.0,\"#0d0887\"],[0.1111111111111111,\"#46039f\"],[0.2222222222222222,\"#7201a8\"],[0.3333333333333333,\"#9c179e\"],[0.4444444444444444,\"#bd3786\"],[0.5555555555555556,\"#d8576b\"],[0.6666666666666666,\"#ed7953\"],[0.7777777777777778,\"#fb9f3a\"],[0.8888888888888888,\"#fdca26\"],[1.0,\"#f0f921\"]]}],\"mesh3d\":[{\"type\":\"mesh3d\",\"colorbar\":{\"outlinewidth\":0,\"ticks\":\"\"}}],\"scatter\":[{\"fillpattern\":{\"fillmode\":\"overlay\",\"size\":10,\"solidity\":0.2},\"type\":\"scatter\"}],\"parcoords\":[{\"type\":\"parcoords\",\"line\":{\"colorbar\":{\"outlinewidth\":0,\"ticks\":\"\"}}}],\"scatterpolargl\":[{\"type\":\"scatterpolargl\",\"marker\":{\"colorbar\":{\"outlinewidth\":0,\"ticks\":\"\"}}}],\"bar\":[{\"error_x\":{\"color\":\"#2a3f5f\"},\"error_y\":{\"color\":\"#2a3f5f\"},\"marker\":{\"line\":{\"color\":\"#E5ECF6\",\"width\":0.5},\"pattern\":{\"fillmode\":\"overlay\",\"size\":10,\"solidity\":0.2}},\"type\":\"bar\"}],\"scattergeo\":[{\"type\":\"scattergeo\",\"marker\":{\"colorbar\":{\"outlinewidth\":0,\"ticks\":\"\"}}}],\"scatterpolar\":[{\"type\":\"scatterpolar\",\"marker\":{\"colorbar\":{\"outlinewidth\":0,\"ticks\":\"\"}}}],\"histogram\":[{\"marker\":{\"pattern\":{\"fillmode\":\"overlay\",\"size\":10,\"solidity\":0.2}},\"type\":\"histogram\"}],\"scattergl\":[{\"type\":\"scattergl\",\"marker\":{\"colorbar\":{\"outlinewidth\":0,\"ticks\":\"\"}}}],\"scatter3d\":[{\"type\":\"scatter3d\",\"line\":{\"colorbar\":{\"outlinewidth\":0,\"ticks\":\"\"}},\"marker\":{\"colorbar\":{\"outlinewidth\":0,\"ticks\":\"\"}}}],\"scattermapbox\":[{\"type\":\"scattermapbox\",\"marker\":{\"colorbar\":{\"outlinewidth\":0,\"ticks\":\"\"}}}],\"scatterternary\":[{\"type\":\"scatterternary\",\"marker\":{\"colorbar\":{\"outlinewidth\":0,\"ticks\":\"\"}}}],\"scattercarpet\":[{\"type\":\"scattercarpet\",\"marker\":{\"colorbar\":{\"outlinewidth\":0,\"ticks\":\"\"}}}],\"carpet\":[{\"aaxis\":{\"endlinecolor\":\"#2a3f5f\",\"gridcolor\":\"white\",\"linecolor\":\"white\",\"minorgridcolor\":\"white\",\"startlinecolor\":\"#2a3f5f\"},\"baxis\":{\"endlinecolor\":\"#2a3f5f\",\"gridcolor\":\"white\",\"linecolor\":\"white\",\"minorgridcolor\":\"white\",\"startlinecolor\":\"#2a3f5f\"},\"type\":\"carpet\"}],\"table\":[{\"cells\":{\"fill\":{\"color\":\"#EBF0F8\"},\"line\":{\"color\":\"white\"}},\"header\":{\"fill\":{\"color\":\"#C8D4E3\"},\"line\":{\"color\":\"white\"}},\"type\":\"table\"}],\"barpolar\":[{\"marker\":{\"line\":{\"color\":\"#E5ECF6\",\"width\":0.5},\"pattern\":{\"fillmode\":\"overlay\",\"size\":10,\"solidity\":0.2}},\"type\":\"barpolar\"}],\"pie\":[{\"automargin\":true,\"type\":\"pie\"}]},\"layout\":{\"autotypenumbers\":\"strict\",\"colorway\":[\"#636efa\",\"#EF553B\",\"#00cc96\",\"#ab63fa\",\"#FFA15A\",\"#19d3f3\",\"#FF6692\",\"#B6E880\",\"#FF97FF\",\"#FECB52\"],\"font\":{\"color\":\"#2a3f5f\"},\"hovermode\":\"closest\",\"hoverlabel\":{\"align\":\"left\"},\"paper_bgcolor\":\"white\",\"plot_bgcolor\":\"#E5ECF6\",\"polar\":{\"bgcolor\":\"#E5ECF6\",\"angularaxis\":{\"gridcolor\":\"white\",\"linecolor\":\"white\",\"ticks\":\"\"},\"radialaxis\":{\"gridcolor\":\"white\",\"linecolor\":\"white\",\"ticks\":\"\"}},\"ternary\":{\"bgcolor\":\"#E5ECF6\",\"aaxis\":{\"gridcolor\":\"white\",\"linecolor\":\"white\",\"ticks\":\"\"},\"baxis\":{\"gridcolor\":\"white\",\"linecolor\":\"white\",\"ticks\":\"\"},\"caxis\":{\"gridcolor\":\"white\",\"linecolor\":\"white\",\"ticks\":\"\"}},\"coloraxis\":{\"colorbar\":{\"outlinewidth\":0,\"ticks\":\"\"}},\"colorscale\":{\"sequential\":[[0.0,\"#0d0887\"],[0.1111111111111111,\"#46039f\"],[0.2222222222222222,\"#7201a8\"],[0.3333333333333333,\"#9c179e\"],[0.4444444444444444,\"#bd3786\"],[0.5555555555555556,\"#d8576b\"],[0.6666666666666666,\"#ed7953\"],[0.7777777777777778,\"#fb9f3a\"],[0.8888888888888888,\"#fdca26\"],[1.0,\"#f0f921\"]],\"sequentialminus\":[[0.0,\"#0d0887\"],[0.1111111111111111,\"#46039f\"],[0.2222222222222222,\"#7201a8\"],[0.3333333333333333,\"#9c179e\"],[0.4444444444444444,\"#bd3786\"],[0.5555555555555556,\"#d8576b\"],[0.6666666666666666,\"#ed7953\"],[0.7777777777777778,\"#fb9f3a\"],[0.8888888888888888,\"#fdca26\"],[1.0,\"#f0f921\"]],\"diverging\":[[0,\"#8e0152\"],[0.1,\"#c51b7d\"],[0.2,\"#de77ae\"],[0.3,\"#f1b6da\"],[0.4,\"#fde0ef\"],[0.5,\"#f7f7f7\"],[0.6,\"#e6f5d0\"],[0.7,\"#b8e186\"],[0.8,\"#7fbc41\"],[0.9,\"#4d9221\"],[1,\"#276419\"]]},\"xaxis\":{\"gridcolor\":\"white\",\"linecolor\":\"white\",\"ticks\":\"\",\"title\":{\"standoff\":15},\"zerolinecolor\":\"white\",\"automargin\":true,\"zerolinewidth\":2},\"yaxis\":{\"gridcolor\":\"white\",\"linecolor\":\"white\",\"ticks\":\"\",\"title\":{\"standoff\":15},\"zerolinecolor\":\"white\",\"automargin\":true,\"zerolinewidth\":2},\"scene\":{\"xaxis\":{\"backgroundcolor\":\"#E5ECF6\",\"gridcolor\":\"white\",\"linecolor\":\"white\",\"showbackground\":true,\"ticks\":\"\",\"zerolinecolor\":\"white\",\"gridwidth\":2},\"yaxis\":{\"backgroundcolor\":\"#E5ECF6\",\"gridcolor\":\"white\",\"linecolor\":\"white\",\"showbackground\":true,\"ticks\":\"\",\"zerolinecolor\":\"white\",\"gridwidth\":2},\"zaxis\":{\"backgroundcolor\":\"#E5ECF6\",\"gridcolor\":\"white\",\"linecolor\":\"white\",\"showbackground\":true,\"ticks\":\"\",\"zerolinecolor\":\"white\",\"gridwidth\":2}},\"shapedefaults\":{\"line\":{\"color\":\"#2a3f5f\"}},\"annotationdefaults\":{\"arrowcolor\":\"#2a3f5f\",\"arrowhead\":0,\"arrowwidth\":1},\"geo\":{\"bgcolor\":\"white\",\"landcolor\":\"#E5ECF6\",\"subunitcolor\":\"white\",\"showland\":true,\"showlakes\":true,\"lakecolor\":\"white\"},\"title\":{\"x\":0.05},\"mapbox\":{\"style\":\"light\"}}},\"xaxis\":{\"anchor\":\"y\",\"domain\":[0.0,1.0],\"title\":{\"text\":\"Category\"}},\"yaxis\":{\"anchor\":\"x\",\"domain\":[0.0,1.0],\"title\":{\"text\":\"Values\"}},\"legend\":{\"tracegroupgap\":0},\"title\":{\"text\":\"Bar Plot Example\"},\"barmode\":\"relative\"},                        {\"responsive\": true}                    ).then(function(){\n",
              "                            \n",
              "var gd = document.getElementById('8a13f0ce-5b80-45c0-b099-b3a3e0c9bffd');\n",
              "var x = new MutationObserver(function (mutations, observer) {{\n",
              "        var display = window.getComputedStyle(gd).display;\n",
              "        if (!display || display === 'none') {{\n",
              "            console.log([gd, 'removed!']);\n",
              "            Plotly.purge(gd);\n",
              "            observer.disconnect();\n",
              "        }}\n",
              "}});\n",
              "\n",
              "// Listen for the removal of the full notebook cells\n",
              "var notebookContainer = gd.closest('#notebook-container');\n",
              "if (notebookContainer) {{\n",
              "    x.observe(notebookContainer, {childList: true});\n",
              "}}\n",
              "\n",
              "// Listen for the clearing of the current output cell\n",
              "var outputEl = gd.closest('.output');\n",
              "if (outputEl) {{\n",
              "    x.observe(outputEl, {childList: true});\n",
              "}}\n",
              "\n",
              "                        })                };                            </script>        </div>\n",
              "</body>\n",
              "</html>"
            ]
          },
          "metadata": {}
        }
      ]
    },
    {
      "cell_type": "code",
      "source": [
        "\"\"\"\n",
        "Ques.6 Create a DataFrame and add a new column based on an existing column\n",
        "Ans.\n",
        "\"\"\"\n",
        "import pandas as pd\n",
        "\n",
        "# Sample DataFrame\n",
        "df = pd.DataFrame({'Name': ['Manish', 'Himanshu', 'Komal'], 'Age': [25, 30, 35]})\n",
        "\n",
        "# Add new column based on existing column\n",
        "df['Age in 10 years'] = df['Age'] + 10\n",
        "\n",
        "print(df)"
      ],
      "metadata": {
        "id": "xpw57dNoW-LU",
        "colab": {
          "base_uri": "https://localhost:8080/"
        },
        "outputId": "1547443d-14f9-4f65-b33a-2fc47bc9ed43"
      },
      "execution_count": 17,
      "outputs": [
        {
          "output_type": "stream",
          "name": "stdout",
          "text": [
            "       Name  Age  Age in 10 years\n",
            "0    Manish   25               35\n",
            "1  Himanshu   30               40\n",
            "2     Komal   35               45\n"
          ]
        }
      ]
    },
    {
      "cell_type": "code",
      "source": [
        "\"\"\"\n",
        "Ques.7 Write a program to perform element-wise multiplication of two NumPy arrays\n",
        "Ans.\n",
        "\"\"\"\n",
        "import numpy as np\n",
        "\n",
        "# Create two NumPy arrays\n",
        "a = np.array([1, 2, 3])\n",
        "b = np.array([4, 5, 6])\n",
        "\n",
        "# Element-wise multiplication\n",
        "result = a * b\n",
        "\n",
        "print(result)"
      ],
      "metadata": {
        "id": "0i9VkbJVW5tQ",
        "colab": {
          "base_uri": "https://localhost:8080/"
        },
        "outputId": "27ce7239-1d4f-4fa7-ac50-60100cd52f81"
      },
      "execution_count": 19,
      "outputs": [
        {
          "output_type": "stream",
          "name": "stdout",
          "text": [
            "[ 4 10 18]\n"
          ]
        }
      ]
    },
    {
      "cell_type": "code",
      "source": [
        "\"\"\"\n",
        "Ques.8 Create a line plot with multiple lines using Matplotlib\n",
        "Ans.\n",
        "\"\"\"\n",
        "import matplotlib.pyplot as plt\n",
        "\n",
        "# Sample data\n",
        "x = [1, 2, 3, 4, 5]\n",
        "y1 = [10, 20, 25, 30, 50]\n",
        "y2 = [5, 15, 20, 35, 40]\n",
        "\n",
        "# Plot multiple lines\n",
        "plt.plot(x, y1, label=\"Line 1\", marker=\"o\")\n",
        "plt.plot(x, y2, label=\"Line 2\", marker=\"s\")\n",
        "\n",
        "plt.xlabel(\"X-axis\")\n",
        "plt.ylabel(\"Y-axis\")\n",
        "plt.title(\"Multiple Line Plot\")\n",
        "plt.legend()\n",
        "plt.show()"
      ],
      "metadata": {
        "id": "rhRTb8R5W2qN",
        "colab": {
          "base_uri": "https://localhost:8080/",
          "height": 472
        },
        "outputId": "918f68c4-599c-4ae8-9c93-db4cbe8fb888"
      },
      "execution_count": 20,
      "outputs": [
        {
          "output_type": "display_data",
          "data": {
            "text/plain": [
              "<Figure size 640x480 with 1 Axes>"
            ],
            "image/png": "[encoded data removed]"
          },
          "metadata": {}
        }
      ]
    },
    {
      "cell_type": "code",
      "source": [
        "\"\"\"\n",
        "Ques.9 Generate a Pandas DataFrame and filter rows where a column value is greater than a threshold\n",
        "Ans.\n",
        "\"\"\"\n",
        "import pandas as pd\n",
        "\n",
        "# Sample DataFrame\n",
        "df = pd.DataFrame({'Name': ['Manish', 'Himanshu', 'Komal'], 'Score': [85, 60, 90]})\n",
        "\n",
        "# Filter rows where Score > 80\n",
        "filtered_df = df[df['Score'] > 80]\n",
        "\n",
        "print(filtered_df)"
      ],
      "metadata": {
        "id": "jhJ5vy9mWyzE",
        "colab": {
          "base_uri": "https://localhost:8080/"
        },
        "outputId": "0ff6178d-86f6-4f62-de6a-c24e447cc641"
      },
      "execution_count": 21,
      "outputs": [
        {
          "output_type": "stream",
          "name": "stdout",
          "text": [
            "     Name  Score\n",
            "0  Manish     85\n",
            "2   Komal     90\n"
          ]
        }
      ]
    },
    {
      "cell_type": "code",
      "source": [
        "\"\"\"\n",
        "Ques.10 Create a histogram using Seaborn to visualize a distribution\n",
        "Ans.\n",
        "\"\"\"\n",
        "import seaborn as sns\n",
        "import numpy as np\n",
        "import matplotlib.pyplot as plt\n",
        "\n",
        "# Generate random data\n",
        "data = np.random.randn(1000)\n",
        "\n",
        "# Create histogram\n",
        "sns.histplot(data, bins=30, kde=True, color=\"blue\")\n",
        "plt.title(\"Histogram Example\")\n",
        "plt.show()"
      ],
      "metadata": {
        "id": "vzBru8WDWvdW",
        "colab": {
          "base_uri": "https://localhost:8080/",
          "height": 452
        },
        "outputId": "493b1df8-7443-4475-83d8-de32d75c4ac5"
      },
      "execution_count": 22,
      "outputs": [
        {
          "output_type": "display_data",
          "data": {
            "text/plain": [
              "<Figure size 640x480 with 1 Axes>"
            ],
            "image/png": "[encoded data removed]"
          },
          "metadata": {}
        }
      ]
    },
    {
      "cell_type": "code",
      "source": [
        "\"\"\"\n",
        "Ques.11 Perform matrix multiplication using NumPy\n",
        "Ans.\n",
        "\"\"\"\n",
        "import numpy as np\n",
        "\n",
        "# Define two matrices\n",
        "A = np.array([[1, 2], [3, 4]])\n",
        "B = np.array([[5, 6], [7, 8]])\n",
        "\n",
        "# Perform matrix multiplication\n",
        "result = np.dot(A, B)\n",
        "\n",
        "print(result)"
      ],
      "metadata": {
        "id": "EcwwwdsaWrjm",
        "colab": {
          "base_uri": "https://localhost:8080/"
        },
        "outputId": "fafd5a46-ddff-4d8d-8abb-334d1b25df80"
      },
      "execution_count": 23,
      "outputs": [
        {
          "output_type": "stream",
          "name": "stdout",
          "text": [
            "[[19 22]\n",
            " [43 50]]\n"
          ]
        }
      ]
    },
    {
      "cell_type": "code",
      "source": [
        "\"\"\"\n",
        "Ques.12 Use Pandas to load a CSV file and display its first 5 rows\n",
        "Ans.\n",
        "\"\"\"\n",
        "import pandas as pd\n",
        "\n",
        "# Load CSV file (replace 'file.csv' with actual file path)\n",
        "df = pd.read_csv('file.csv')\n",
        "\n",
        "# Display first 5 rows\n",
        "print(df.head())\n",
        "\n"
      ],
      "metadata": {
        "id": "kmOTnIO2Y6Lp"
      },
      "execution_count": null,
      "outputs": []
    },
    {
      "cell_type": "code",
      "source": [
        "\"\"\"\n",
        "Ques.13 Create a 3D scatter plot using Plotly.\n",
        "Ans.\n",
        "\"\"\"\n",
        "import plotly.express as px\n",
        "import pandas as pd\n",
        "import numpy as np\n",
        "\n",
        "# Sample DataFrame\n",
        "df = pd.DataFrame({'X': np.random.rand(50),\n",
        "                   'Y': np.random.rand(50),\n",
        "                   'Z': np.random.rand(50)})\n",
        "\n",
        "# Create 3D scatter plot\n",
        "fig = px.scatter_3d(df, x='X', y='Y', z='Z', title=\"3D Scatter Plot Example\")\n",
        "fig.show()\n"
      ],
      "metadata": {
        "id": "vQtq2I3LWmh7",
        "colab": {
          "base_uri": "https://localhost:8080/",
          "height": 542
        },
        "outputId": "5403908e-f6cf-4a73-9bda-5f2ce65a4ff6"
      },
      "execution_count": 24,
      "outputs": [
        {
          "output_type": "display_data",
          "data": {
            "text/html": [
              "<html>\n",
              "<head><meta charset=\"utf-8\" /></head>\n",
              "<body>\n",
              "    <div>            <script src=\"https://cdnjs.cloudflare.com/ajax/libs/mathjax/2.7.5/MathJax.js?config=TeX-AMS-MML_SVG\"></script><script type=\"text/javascript\">if (window.MathJax && window.MathJax.Hub && window.MathJax.Hub.Config) {window.MathJax.Hub.Config({SVG: {font: \"STIX-Web\"}});}</script>                <script type=\"text/javascript\">window.PlotlyConfig = {MathJaxConfig: 'local'};</script>\n",
              "        <script charset=\"utf-8\" src=\"https://cdn.plot.ly/plotly-2.35.2.min.js\"></script>                <div id=\"c58591ba-d7c4-43b3-90a0-b68bb0ad01c5\" class=\"plotly-graph-div\" style=\"height:525px; width:100%;\"></div>            <script type=\"text/javascript\">                                    window.PLOTLYENV=window.PLOTLYENV || {};                                    if (document.getElementById(\"c58591ba-d7c4-43b3-90a0-b68bb0ad01c5\")) {                    Plotly.newPlot(                        \"c58591ba-d7c4-43b3-90a0-b68bb0ad01c5\",                        [{\"hovertemplate\":\"X=%{x}\\u003cbr\\u003eY=%{y}\\u003cbr\\u003eZ=%{z}\\u003cextra\\u003e\\u003c\\u002fextra\\u003e\",\"legendgroup\":\"\",\"marker\":{\"color\":\"#636efa\",\"symbol\":\"circle\"},\"mode\":\"markers\",\"name\":\"\",\"scene\":\"scene\",\"showlegend\":false,\"x\":[0.36236994017871005,0.4971465912265569,0.10495833944958988,0.12338364597866258,0.21728359837404865,0.7024934671595596,0.7907514634324169,0.1206420062154252,0.1339288970587743,0.3964804142904901,0.05860768574612574,0.9686949963689424,0.5350930920785677,0.6025183142646633,0.5657143361007566,0.03271767425686534,0.9091352297356212,0.9484778791706004,0.00874957772138274,0.4779371986292845,0.0018861753129479908,0.2155445130173812,0.47136828474842063,0.2439432915245734,0.21918711929309087,0.5598754173194324,0.6014797293519243,0.14812834748073378,0.9485588537315579,0.6299675691342289,0.21269088448631024,0.975217762275473,0.805228952620906,0.4821369023410178,0.2696530321282544,0.056041751651122906,0.3185298272157827,0.7325799491654017,0.640360497366836,0.06238918388800685,0.8263374644700755,0.24748957808886274,0.592298215131747,0.6670139330433235,0.8114898194818908,0.4971178044778005,0.27650195820311363,0.9956853567164418,0.8821697061369306,0.3231018988113249],\"y\":[0.729071547129332,0.7397553804500105,0.6306141642942912,0.7625673960352484,0.6028242225048356,0.4233577638774899,0.9206483492957128,0.1658333854347811,0.9872293356739884,0.29787589214579346,0.1933843051757116,0.9895791743442871,0.9723830662484302,0.7975213066751832,0.1642715523361752,0.16942510469823036,0.6398042438970191,0.9249899603304181,0.5845156368965942,0.7577682593750389,0.1311410253518116,0.9484469955622877,0.1750669180575557,0.8133326683780783,0.727106837671194,0.39418764604787815,0.18365298457960966,0.052868140688507426,0.3167340813225368,0.9165700716509765,0.4151591063793605,0.7189141208003091,0.1222925419367008,0.01798517371605668,0.5451449052473462,0.8155434673702303,0.9523292215952077,0.9997003652328036,0.04957426751706051,0.705117724077201,0.4563297156672196,0.3014131700859176,0.18280078229546592,0.32476675441134906,0.14754971091438496,0.6582189993925613,0.3062308705698942,0.0037967235118777642,0.2949818571715014,0.4059804333527677],\"z\":[0.04174602612427514,0.07018189837679156,0.926615241472547,0.6442997580391754,0.3806661765367837,0.3036175916903088,0.675100802803724,0.5840057977483155,0.735766669571447,0.5386838150275026,0.7339742874552961,0.9348270017167434,0.7099973882005074,0.7013776463290622,0.248548726795648,0.5000005039256289,0.947580098851837,0.013258556585437509,0.15312252998941367,0.49113529692163527,0.04209776662913678,0.039676391867811356,0.7712827972901105,0.3449802766311738,0.23332567833793227,0.8678729846386928,0.6152882000803092,0.2648861248842509,0.7603460246225104,0.4160729316912174,0.529149928441691,0.8960147449940746,0.9093302450969771,0.6499571783047965,0.8079307189620069,0.7488647251462048,0.2640448917631798,0.3498293063806762,0.3860549645703727,0.4257496151383662,0.3245237631129043,0.9782562784467991,0.875823481336799,0.36969781968941406,0.4351239909375043,0.7010806839241979,0.8732868638156994,0.17496532988321523,0.6748630102606278,0.27313897217324656],\"type\":\"scatter3d\"}],                        {\"template\":{\"data\":{\"histogram2dcontour\":[{\"type\":\"histogram2dcontour\",\"colorbar\":{\"outlinewidth\":0,\"ticks\":\"\"},\"colorscale\":[[0.0,\"#0d0887\"],[0.1111111111111111,\"#46039f\"],[0.2222222222222222,\"#7201a8\"],[0.3333333333333333,\"#9c179e\"],[0.4444444444444444,\"#bd3786\"],[0.5555555555555556,\"#d8576b\"],[0.6666666666666666,\"#ed7953\"],[0.7777777777777778,\"#fb9f3a\"],[0.8888888888888888,\"#fdca26\"],[1.0,\"#f0f921\"]]}],\"choropleth\":[{\"type\":\"choropleth\",\"colorbar\":{\"outlinewidth\":0,\"ticks\":\"\"}}],\"histogram2d\":[{\"type\":\"histogram2d\",\"colorbar\":{\"outlinewidth\":0,\"ticks\":\"\"},\"colorscale\":[[0.0,\"#0d0887\"],[0.1111111111111111,\"#46039f\"],[0.2222222222222222,\"#7201a8\"],[0.3333333333333333,\"#9c179e\"],[0.4444444444444444,\"#bd3786\"],[0.5555555555555556,\"#d8576b\"],[0.6666666666666666,\"#ed7953\"],[0.7777777777777778,\"#fb9f3a\"],[0.8888888888888888,\"#fdca26\"],[1.0,\"#f0f921\"]]}],\"heatmap\":[{\"type\":\"heatmap\",\"colorbar\":{\"outlinewidth\":0,\"ticks\":\"\"},\"colorscale\":[[0.0,\"#0d0887\"],[0.1111111111111111,\"#46039f\"],[0.2222222222222222,\"#7201a8\"],[0.3333333333333333,\"#9c179e\"],[0.4444444444444444,\"#bd3786\"],[0.5555555555555556,\"#d8576b\"],[0.6666666666666666,\"#ed7953\"],[0.7777777777777778,\"#fb9f3a\"],[0.8888888888888888,\"#fdca26\"],[1.0,\"#f0f921\"]]}],\"heatmapgl\":[{\"type\":\"heatmapgl\",\"colorbar\":{\"outlinewidth\":0,\"ticks\":\"\"},\"colorscale\":[[0.0,\"#0d0887\"],[0.1111111111111111,\"#46039f\"],[0.2222222222222222,\"#7201a8\"],[0.3333333333333333,\"#9c179e\"],[0.4444444444444444,\"#bd3786\"],[0.5555555555555556,\"#d8576b\"],[0.6666666666666666,\"#ed7953\"],[0.7777777777777778,\"#fb9f3a\"],[0.8888888888888888,\"#fdca26\"],[1.0,\"#f0f921\"]]}],\"contourcarpet\":[{\"type\":\"contourcarpet\",\"colorbar\":{\"outlinewidth\":0,\"ticks\":\"\"}}],\"contour\":[{\"type\":\"contour\",\"colorbar\":{\"outlinewidth\":0,\"ticks\":\"\"},\"colorscale\":[[0.0,\"#0d0887\"],[0.1111111111111111,\"#46039f\"],[0.2222222222222222,\"#7201a8\"],[0.3333333333333333,\"#9c179e\"],[0.4444444444444444,\"#bd3786\"],[0.5555555555555556,\"#d8576b\"],[0.6666666666666666,\"#ed7953\"],[0.7777777777777778,\"#fb9f3a\"],[0.8888888888888888,\"#fdca26\"],[1.0,\"#f0f921\"]]}],\"surface\":[{\"type\":\"surface\",\"colorbar\":{\"outlinewidth\":0,\"ticks\":\"\"},\"colorscale\":[[0.0,\"#0d0887\"],[0.1111111111111111,\"#46039f\"],[0.2222222222222222,\"#7201a8\"],[0.3333333333333333,\"#9c179e\"],[0.4444444444444444,\"#bd3786\"],[0.5555555555555556,\"#d8576b\"],[0.6666666666666666,\"#ed7953\"],[0.7777777777777778,\"#fb9f3a\"],[0.8888888888888888,\"#fdca26\"],[1.0,\"#f0f921\"]]}],\"mesh3d\":[{\"type\":\"mesh3d\",\"colorbar\":{\"outlinewidth\":0,\"ticks\":\"\"}}],\"scatter\":[{\"fillpattern\":{\"fillmode\":\"overlay\",\"size\":10,\"solidity\":0.2},\"type\":\"scatter\"}],\"parcoords\":[{\"type\":\"parcoords\",\"line\":{\"colorbar\":{\"outlinewidth\":0,\"ticks\":\"\"}}}],\"scatterpolargl\":[{\"type\":\"scatterpolargl\",\"marker\":{\"colorbar\":{\"outlinewidth\":0,\"ticks\":\"\"}}}],\"bar\":[{\"error_x\":{\"color\":\"#2a3f5f\"},\"error_y\":{\"color\":\"#2a3f5f\"},\"marker\":{\"line\":{\"color\":\"#E5ECF6\",\"width\":0.5},\"pattern\":{\"fillmode\":\"overlay\",\"size\":10,\"solidity\":0.2}},\"type\":\"bar\"}],\"scattergeo\":[{\"type\":\"scattergeo\",\"marker\":{\"colorbar\":{\"outlinewidth\":0,\"ticks\":\"\"}}}],\"scatterpolar\":[{\"type\":\"scatterpolar\",\"marker\":{\"colorbar\":{\"outlinewidth\":0,\"ticks\":\"\"}}}],\"histogram\":[{\"marker\":{\"pattern\":{\"fillmode\":\"overlay\",\"size\":10,\"solidity\":0.2}},\"type\":\"histogram\"}],\"scattergl\":[{\"type\":\"scattergl\",\"marker\":{\"colorbar\":{\"outlinewidth\":0,\"ticks\":\"\"}}}],\"scatter3d\":[{\"type\":\"scatter3d\",\"line\":{\"colorbar\":{\"outlinewidth\":0,\"ticks\":\"\"}},\"marker\":{\"colorbar\":{\"outlinewidth\":0,\"ticks\":\"\"}}}],\"scattermapbox\":[{\"type\":\"scattermapbox\",\"marker\":{\"colorbar\":{\"outlinewidth\":0,\"ticks\":\"\"}}}],\"scatterternary\":[{\"type\":\"scatterternary\",\"marker\":{\"colorbar\":{\"outlinewidth\":0,\"ticks\":\"\"}}}],\"scattercarpet\":[{\"type\":\"scattercarpet\",\"marker\":{\"colorbar\":{\"outlinewidth\":0,\"ticks\":\"\"}}}],\"carpet\":[{\"aaxis\":{\"endlinecolor\":\"#2a3f5f\",\"gridcolor\":\"white\",\"linecolor\":\"white\",\"minorgridcolor\":\"white\",\"startlinecolor\":\"#2a3f5f\"},\"baxis\":{\"endlinecolor\":\"#2a3f5f\",\"gridcolor\":\"white\",\"linecolor\":\"white\",\"minorgridcolor\":\"white\",\"startlinecolor\":\"#2a3f5f\"},\"type\":\"carpet\"}],\"table\":[{\"cells\":{\"fill\":{\"color\":\"#EBF0F8\"},\"line\":{\"color\":\"white\"}},\"header\":{\"fill\":{\"color\":\"#C8D4E3\"},\"line\":{\"color\":\"white\"}},\"type\":\"table\"}],\"barpolar\":[{\"marker\":{\"line\":{\"color\":\"#E5ECF6\",\"width\":0.5},\"pattern\":{\"fillmode\":\"overlay\",\"size\":10,\"solidity\":0.2}},\"type\":\"barpolar\"}],\"pie\":[{\"automargin\":true,\"type\":\"pie\"}]},\"layout\":{\"autotypenumbers\":\"strict\",\"colorway\":[\"#636efa\",\"#EF553B\",\"#00cc96\",\"#ab63fa\",\"#FFA15A\",\"#19d3f3\",\"#FF6692\",\"#B6E880\",\"#FF97FF\",\"#FECB52\"],\"font\":{\"color\":\"#2a3f5f\"},\"hovermode\":\"closest\",\"hoverlabel\":{\"align\":\"left\"},\"paper_bgcolor\":\"white\",\"plot_bgcolor\":\"#E5ECF6\",\"polar\":{\"bgcolor\":\"#E5ECF6\",\"angularaxis\":{\"gridcolor\":\"white\",\"linecolor\":\"white\",\"ticks\":\"\"},\"radialaxis\":{\"gridcolor\":\"white\",\"linecolor\":\"white\",\"ticks\":\"\"}},\"ternary\":{\"bgcolor\":\"#E5ECF6\",\"aaxis\":{\"gridcolor\":\"white\",\"linecolor\":\"white\",\"ticks\":\"\"},\"baxis\":{\"gridcolor\":\"white\",\"linecolor\":\"white\",\"ticks\":\"\"},\"caxis\":{\"gridcolor\":\"white\",\"linecolor\":\"white\",\"ticks\":\"\"}},\"coloraxis\":{\"colorbar\":{\"outlinewidth\":0,\"ticks\":\"\"}},\"colorscale\":{\"sequential\":[[0.0,\"#0d0887\"],[0.1111111111111111,\"#46039f\"],[0.2222222222222222,\"#7201a8\"],[0.3333333333333333,\"#9c179e\"],[0.4444444444444444,\"#bd3786\"],[0.5555555555555556,\"#d8576b\"],[0.6666666666666666,\"#ed7953\"],[0.7777777777777778,\"#fb9f3a\"],[0.8888888888888888,\"#fdca26\"],[1.0,\"#f0f921\"]],\"sequentialminus\":[[0.0,\"#0d0887\"],[0.1111111111111111,\"#46039f\"],[0.2222222222222222,\"#7201a8\"],[0.3333333333333333,\"#9c179e\"],[0.4444444444444444,\"#bd3786\"],[0.5555555555555556,\"#d8576b\"],[0.6666666666666666,\"#ed7953\"],[0.7777777777777778,\"#fb9f3a\"],[0.8888888888888888,\"#fdca26\"],[1.0,\"#f0f921\"]],\"diverging\":[[0,\"#8e0152\"],[0.1,\"#c51b7d\"],[0.2,\"#de77ae\"],[0.3,\"#f1b6da\"],[0.4,\"#fde0ef\"],[0.5,\"#f7f7f7\"],[0.6,\"#e6f5d0\"],[0.7,\"#b8e186\"],[0.8,\"#7fbc41\"],[0.9,\"#4d9221\"],[1,\"#276419\"]]},\"xaxis\":{\"gridcolor\":\"white\",\"linecolor\":\"white\",\"ticks\":\"\",\"title\":{\"standoff\":15},\"zerolinecolor\":\"white\",\"automargin\":true,\"zerolinewidth\":2},\"yaxis\":{\"gridcolor\":\"white\",\"linecolor\":\"white\",\"ticks\":\"\",\"title\":{\"standoff\":15},\"zerolinecolor\":\"white\",\"automargin\":true,\"zerolinewidth\":2},\"scene\":{\"xaxis\":{\"backgroundcolor\":\"#E5ECF6\",\"gridcolor\":\"white\",\"linecolor\":\"white\",\"showbackground\":true,\"ticks\":\"\",\"zerolinecolor\":\"white\",\"gridwidth\":2},\"yaxis\":{\"backgroundcolor\":\"#E5ECF6\",\"gridcolor\":\"white\",\"linecolor\":\"white\",\"showbackground\":true,\"ticks\":\"\",\"zerolinecolor\":\"white\",\"gridwidth\":2},\"zaxis\":{\"backgroundcolor\":\"#E5ECF6\",\"gridcolor\":\"white\",\"linecolor\":\"white\",\"showbackground\":true,\"ticks\":\"\",\"zerolinecolor\":\"white\",\"gridwidth\":2}},\"shapedefaults\":{\"line\":{\"color\":\"#2a3f5f\"}},\"annotationdefaults\":{\"arrowcolor\":\"#2a3f5f\",\"arrowhead\":0,\"arrowwidth\":1},\"geo\":{\"bgcolor\":\"white\",\"landcolor\":\"#E5ECF6\",\"subunitcolor\":\"white\",\"showland\":true,\"showlakes\":true,\"lakecolor\":\"white\"},\"title\":{\"x\":0.05},\"mapbox\":{\"style\":\"light\"}}},\"scene\":{\"domain\":{\"x\":[0.0,1.0],\"y\":[0.0,1.0]},\"xaxis\":{\"title\":{\"text\":\"X\"}},\"yaxis\":{\"title\":{\"text\":\"Y\"}},\"zaxis\":{\"title\":{\"text\":\"Z\"}}},\"legend\":{\"tracegroupgap\":0},\"title\":{\"text\":\"3D Scatter Plot Example\"}},                        {\"responsive\": true}                    ).then(function(){\n",
              "                            \n",
              "var gd = document.getElementById('c58591ba-d7c4-43b3-90a0-b68bb0ad01c5');\n",
              "var x = new MutationObserver(function (mutations, observer) {{\n",
              "        var display = window.getComputedStyle(gd).display;\n",
              "        if (!display || display === 'none') {{\n",
              "            console.log([gd, 'removed!']);\n",
              "            Plotly.purge(gd);\n",
              "            observer.disconnect();\n",
              "        }}\n",
              "}});\n",
              "\n",
              "// Listen for the removal of the full notebook cells\n",
              "var notebookContainer = gd.closest('#notebook-container');\n",
              "if (notebookContainer) {{\n",
              "    x.observe(notebookContainer, {childList: true});\n",
              "}}\n",
              "\n",
              "// Listen for the clearing of the current output cell\n",
              "var outputEl = gd.closest('.output');\n",
              "if (outputEl) {{\n",
              "    x.observe(outputEl, {childList: true});\n",
              "}}\n",
              "\n",
              "                        })                };                            </script>        </div>\n",
              "</body>\n",
              "</html>"
            ]
          },
          "metadata": {}
        }
      ]
    }
  ]
}